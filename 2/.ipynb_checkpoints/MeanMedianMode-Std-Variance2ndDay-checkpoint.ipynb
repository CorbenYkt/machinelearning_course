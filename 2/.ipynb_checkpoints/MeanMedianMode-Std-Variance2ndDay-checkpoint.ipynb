{
 "cells": [
  {
   "cell_type": "markdown",
   "metadata": {},
   "source": [
    "Fake income data, centered around 27,000 with a normal distribution and standard deviation of 15,000, with 10,000 data points. (We'll discuss those terms more later, if you're not familiar with them.)\n",
    "\n",
    "Then, compute the mean (average) - it should be close to 27,000:\n",
    "#sometimes taking median can be better, imagine 1000000 in data will affect a lot but it ll not affect the median calculation"
   ]
  },
  {
   "cell_type": "code",
   "execution_count": 12,
   "metadata": {},
   "outputs": [
    {
     "data": {
      "text/plain": [
       "array([19743.09798557, 24306.06035867, 19744.10284768, ...,\n",
       "       45597.93576662, 26522.80592318, 41191.96408196])"
      ]
     },
     "execution_count": 12,
     "metadata": {},
     "output_type": "execute_result"
    }
   ],
   "source": [
    "import numpy as np\n",
    "\n",
    "incomes = np.random.normal(27000, 15000, 10000)#just createme sth what i wish\n",
    "np.mean(incomes)\n",
    "incomes\n"
   ]
  },
  {
   "cell_type": "code",
   "execution_count": 13,
   "metadata": {},
   "outputs": [
    {
     "data": {
      "image/png": "[encoded data removed]",
      "text/plain": [
       "<Figure size 432x288 with 1 Axes>"
      ]
     },
     "metadata": {
      "needs_background": "light"
     },
     "output_type": "display_data"
    }
   ],
   "source": [
    "%matplotlib inline\n",
    "import matplotlib.pyplot as plt\n",
    "plt.hist(incomes, 50)\n",
    "plt.show()"
   ]
  },
  {
   "cell_type": "markdown",
   "metadata": {},
   "source": [
    "Now compute the median - since we have a nice, even distribution it too should be close to 27,000:"
   ]
  },
  {
   "cell_type": "code",
   "execution_count": 14,
   "metadata": {},
   "outputs": [
    {
     "data": {
      "text/plain": [
       "27295.097718159916"
      ]
     },
     "execution_count": 14,
     "metadata": {},
     "output_type": "execute_result"
    }
   ],
   "source": [
    "np.median(incomes)"
   ]
  },
  {
   "cell_type": "markdown",
   "metadata": {},
   "source": [
    "Now we'll add Jeff Bezos into the mix "
   ]
  },
  {
   "cell_type": "code",
   "execution_count": 15,
   "metadata": {},
   "outputs": [],
   "source": [
    "incomes = np.append(incomes, [1000000000])"
   ]
  },
  {
   "cell_type": "markdown",
   "metadata": {},
   "source": [
    "The median won't change much, but the mean does:"
   ]
  },
  {
   "cell_type": "code",
   "execution_count": 16,
   "metadata": {},
   "outputs": [
    {
     "data": {
      "text/plain": [
       "27299.189701205007"
      ]
     },
     "execution_count": 16,
     "metadata": {},
     "output_type": "execute_result"
    }
   ],
   "source": [
    "np.median(incomes)"
   ]
  },
  {
   "cell_type": "code",
   "execution_count": 17,
   "metadata": {},
   "outputs": [
    {
     "data": {
      "text/plain": [
       "127260.17621316572"
      ]
     },
     "execution_count": 17,
     "metadata": {},
     "output_type": "execute_result"
    }
   ],
   "source": [
    "np.mean(incomes)"
   ]
  },
  {
   "cell_type": "markdown",
   "metadata": {},
   "source": [
    "## Mode"
   ]
  },
  {
   "cell_type": "markdown",
   "metadata": {},
   "source": [
    "Next, let's generate some fake age data for 500 people:"
   ]
  },
  {
   "cell_type": "code",
   "execution_count": 18,
   "metadata": {},
   "outputs": [
    {
     "data": {
      "text/plain": [
       "array([26, 64, 73, 76, 42, 43, 54, 59, 71, 32, 79, 29, 32, 39, 84, 29, 41,\n",
       "       42, 65, 31, 54, 46, 75, 29, 62, 82, 26, 87, 69, 51, 21, 79, 58, 67,\n",
       "       73, 46, 24, 84, 51, 62, 31, 57, 22, 19, 33, 57, 33, 85, 36, 29, 26,\n",
       "       44, 50, 25, 44, 51, 19, 89, 86, 85, 73, 53, 40, 88, 62, 43, 64, 24,\n",
       "       89, 51, 81, 49, 31, 43, 69, 48, 63, 84, 87, 37, 70, 67, 66, 35, 56,\n",
       "       40, 48, 28, 43, 53, 81, 24, 88, 70, 53, 57, 21, 58, 76, 87, 30, 81,\n",
       "       35, 20, 77, 26, 47, 36, 42, 28, 89, 70, 69, 63, 31, 36, 64, 23, 28,\n",
       "       44, 40, 20, 25, 26, 85, 43, 77, 67, 70, 36, 42, 40, 59, 68, 89, 86,\n",
       "       45, 52, 31, 70, 34, 29, 46, 42, 67, 79, 70, 44, 41, 49, 31, 51, 20,\n",
       "       89, 40, 76, 39, 33, 89, 58, 47, 40, 83, 75, 23, 69, 35, 82, 60, 32,\n",
       "       68, 44, 75, 46, 62, 84, 72, 29, 25, 89, 31, 36, 40, 40, 29, 38, 70,\n",
       "       69, 80, 88, 37, 71, 74, 84, 61, 72, 50, 46, 42, 66, 72, 24, 77, 66,\n",
       "       54, 21, 26, 54, 21, 33, 27, 38, 48, 87, 40, 62, 77, 34, 89, 50, 57,\n",
       "       37, 55, 74, 84, 29, 71, 66, 75, 45, 48, 28, 55, 27, 61, 82, 59, 23,\n",
       "       68, 23, 55, 89, 59, 34, 20, 61, 68, 35, 23, 33, 62, 42, 27, 59, 64,\n",
       "       60, 73, 22, 79, 81, 46, 57, 27, 77, 36, 35, 46, 71, 22, 63, 22, 56,\n",
       "       59, 48, 76, 71, 26, 78, 30, 61, 82, 87, 78, 49, 61, 68, 89, 42, 29,\n",
       "       32, 20, 54, 77, 52, 33, 81, 51, 81, 85, 60, 51, 28, 35, 78, 35, 54,\n",
       "       37, 26, 70, 28, 64, 55, 83, 88, 19, 45, 89, 61, 21, 46, 84, 59, 54,\n",
       "       48, 85, 55, 84, 48, 50, 73, 59, 70, 22, 77, 75, 89, 49, 65, 87, 25,\n",
       "       27, 25, 62, 28, 37, 32, 47, 43, 89, 81, 30, 42, 18, 86, 71, 47, 28,\n",
       "       68, 41, 66, 68, 58, 23, 74, 53, 37, 82, 66, 79, 80, 86, 85, 25, 57,\n",
       "       22, 68, 58, 74, 39, 77, 72, 31, 74, 80, 27, 83, 38, 81, 68, 44, 48,\n",
       "       79, 52, 82, 61, 30, 25, 54, 67, 51, 79, 42, 79, 31, 62, 24, 27, 40,\n",
       "       85, 31, 74, 31, 88, 89, 61, 38, 52, 20, 82, 59, 62, 80, 65, 52, 20,\n",
       "       67, 26, 82, 21, 45, 57, 68, 59, 52, 75, 45, 88, 62, 78, 19, 85, 68,\n",
       "       67, 89, 83, 31, 47, 38, 37, 67, 76, 89, 49, 57, 61, 57, 44, 82, 87,\n",
       "       80, 40, 81, 63, 64, 81, 70, 68, 81, 61, 66, 19, 50, 74, 30, 71, 22,\n",
       "       85, 51, 44, 53, 85, 50, 86, 54, 21, 52, 29, 69, 35, 62, 75, 65, 37,\n",
       "       69, 73, 19, 58, 82, 41, 71])"
      ]
     },
     "execution_count": 18,
     "metadata": {},
     "output_type": "execute_result"
    }
   ],
   "source": [
    "ages = np.random.randint(18, high=90, size=500)\n",
    "ages"
   ]
  },
  {
   "cell_type": "code",
   "execution_count": 19,
   "metadata": {},
   "outputs": [
    {
     "data": {
      "text/plain": [
       "ModeResult(mode=array([89]), count=array([16]))"
      ]
     },
     "execution_count": 19,
     "metadata": {},
     "output_type": "execute_result"
    }
   ],
   "source": [
    "from scipy import stats\n",
    "stats.mode(ages)"
   ]
  },
  {
   "cell_type": "code",
   "execution_count": 20,
   "metadata": {},
   "outputs": [
    {
     "data": {
      "image/png": "[encoded data removed]",
      "text/plain": [
       "<Figure size 432x288 with 1 Axes>"
      ]
     },
     "metadata": {
      "needs_background": "light"
     },
     "output_type": "display_data"
    }
   ],
   "source": [
    "incomes2 = np.random.normal(100.0, 50.0, 10000)\n",
    "plt.hist(incomes2, 50)\n",
    "plt.show()"
   ]
  },
  {
   "cell_type": "code",
   "execution_count": 21,
   "metadata": {},
   "outputs": [
    {
     "data": {
      "text/plain": [
       "49.34484238522256"
      ]
     },
     "execution_count": 21,
     "metadata": {},
     "output_type": "execute_result"
    }
   ],
   "source": [
    "incomes2.std()"
   ]
  },
  {
   "cell_type": "code",
   "execution_count": 22,
   "metadata": {},
   "outputs": [
    {
     "data": {
      "text/plain": [
       "2434.913470022457"
      ]
     },
     "execution_count": 22,
     "metadata": {},
     "output_type": "execute_result"
    }
   ],
   "source": [
    "incomes2.var()"
   ]
  },
  {
   "cell_type": "code",
   "execution_count": null,
   "metadata": {},
   "outputs": [],
   "source": []
  }
 ],
 "metadata": {
  "kernelspec": {
   "display_name": "Python 3 (ipykernel)",
   "language": "python",
   "name": "python3"
  },
  "language_info": {
   "codemirror_mode": {
    "name": "ipython",
    "version": 3
   },
   "file_extension": ".py",
   "mimetype": "text/x-python",
   "name": "python",
   "nbconvert_exporter": "python",
   "pygments_lexer": "ipython3",
   "version": "3.9.13"
  }
 },
 "nbformat": 4,
 "nbformat_minor": 1
}
