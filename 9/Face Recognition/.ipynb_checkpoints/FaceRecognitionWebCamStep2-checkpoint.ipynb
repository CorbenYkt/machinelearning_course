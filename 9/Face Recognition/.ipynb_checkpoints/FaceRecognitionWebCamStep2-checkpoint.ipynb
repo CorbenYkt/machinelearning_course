{
 "cells": [
  {
   "cell_type": "code",
   "execution_count": null,
   "id": "930b3df0",
   "metadata": {},
   "outputs": [],
   "source": [
    "import cv2\n",
    "# you need to import one more library, opencv-contrib-python\n",
    "# pip install opencv-contrib-python !!!!!!!!!!!!!!!!!!!!!!!!!!!!!!!!!!!!!!!!!!!!!!!!!!!!!!!!!!!!!!!!!!!!!!!!!!!!!1\n",
    "face_detector = cv2.CascadeClassifier(\"haarcascade_frontalface_default.xml\")  #usual facedetection\n",
    "face_recognizer = cv2.face.LBPHFaceRecognizer_create()\n",
    "face_recognizer.read(\"lbph_classifierAD100.yml\") # your own classifier file  (recognizer!)\n",
    "width, height = 165, 220  # my own images I resized\n",
    "#font = cv2.FONT_HERSHEY_COMPLEX_SMALL\n",
    "font = cv2.FONT_HERSHEY_SIMPLEX\n",
    "camera = cv2.VideoCapture(0)\n",
    "\n",
    "while (True):\n",
    "    connected, image = camera.read()\n",
    "    image_gray = cv2.cvtColor(image, cv2.COLOR_BGR2GRAY)\n",
    "    detections = face_detector.detectMultiScale(image_gray, scaleFactor=1.5, minSize=(30,30))\n",
    "    for (x, y, w, h) in detections:\n",
    "        image_face = cv2.resize(image_gray[y:y + w, x:x + h], (width, height))\n",
    "        id, confidence = face_recognizer.predict(image_face)\n",
    "        name = \"\"\n",
    "        if id == 1:\n",
    "            name = 'Ogul Unal'\n",
    "            cv2.rectangle\n",
    "            cv2.rectangle(image, (x, y), (x + w, y + h), (0,0,255), 1)\n",
    "            cv2.putText(image, name, (x,y +(w+30)), font, 1, (0,0,255))\n",
    "            cv2.putText(image, str(confidence), (x,y + (h+50)), font, 0.3, (0,0,255))            \n",
    "        if id == 2:\n",
    "            name = 'Dmitrii'\n",
    "            cv2.rectangle(image, (x, y), (x + w, y + h), (255,0,0), 2)\n",
    "            cv2.putText(image, name, (x,y +(w+30)), font, 1, (255,0,0))\n",
    "            cv2.putText(image, str(confidence), (x,y + (h+50)), font, 0.3, (255,0,0))\n",
    "\n",
    "    cv2.imshow(\"Face\", image)\n",
    "    if cv2.waitKey(1) == ord('q'):\n",
    "        break\n",
    "\n",
    "camera.release()\n",
    "cv2.destroyAllWindows()"
   ]
  },
  {
   "cell_type": "code",
   "execution_count": null,
   "id": "0019d88f",
   "metadata": {},
   "outputs": [],
   "source": []
  }
 ],
 "metadata": {
  "kernelspec": {
   "display_name": "Python 3 (ipykernel)",
   "language": "python",
   "name": "python3"
  },
  "language_info": {
   "codemirror_mode": {
    "name": "ipython",
    "version": 3
   },
   "file_extension": ".py",
   "mimetype": "text/x-python",
   "name": "python",
   "nbconvert_exporter": "python",
   "pygments_lexer": "ipython3",
   "version": "3.9.13"
  }
 },
 "nbformat": 4,
 "nbformat_minor": 5
}
