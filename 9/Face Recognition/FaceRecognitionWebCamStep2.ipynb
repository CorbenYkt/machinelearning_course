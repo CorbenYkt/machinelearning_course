{
 "cells": [
  {
   "cell_type": "code",
   "execution_count": 1,
   "id": "930b3df0",
   "metadata": {},
   "outputs": [
    {
     "ename": "KeyboardInterrupt",
     "evalue": "",
     "output_type": "error",
     "traceback": [
      "\u001b[1;31m---------------------------------------------------------------------------\u001b[0m",
      "\u001b[1;31mKeyboardInterrupt\u001b[0m                         Traceback (most recent call last)",
      "Cell \u001b[1;32mIn[1], line 15\u001b[0m\n\u001b[0;32m     13\u001b[0m connected, image \u001b[38;5;241m=\u001b[39m camera\u001b[38;5;241m.\u001b[39mread()\n\u001b[0;32m     14\u001b[0m image_gray \u001b[38;5;241m=\u001b[39m cv2\u001b[38;5;241m.\u001b[39mcvtColor(image, cv2\u001b[38;5;241m.\u001b[39mCOLOR_BGR2GRAY)\n\u001b[1;32m---> 15\u001b[0m detections \u001b[38;5;241m=\u001b[39m \u001b[43mface_detector\u001b[49m\u001b[38;5;241;43m.\u001b[39;49m\u001b[43mdetectMultiScale\u001b[49m\u001b[43m(\u001b[49m\u001b[43mimage_gray\u001b[49m\u001b[43m,\u001b[49m\u001b[43m \u001b[49m\u001b[43mscaleFactor\u001b[49m\u001b[38;5;241;43m=\u001b[39;49m\u001b[38;5;241;43m1.5\u001b[39;49m\u001b[43m,\u001b[49m\u001b[43m \u001b[49m\u001b[43mminSize\u001b[49m\u001b[38;5;241;43m=\u001b[39;49m\u001b[43m(\u001b[49m\u001b[38;5;241;43m30\u001b[39;49m\u001b[43m,\u001b[49m\u001b[38;5;241;43m30\u001b[39;49m\u001b[43m)\u001b[49m\u001b[43m)\u001b[49m\n\u001b[0;32m     16\u001b[0m \u001b[38;5;28;01mfor\u001b[39;00m (x, y, w, h) \u001b[38;5;129;01min\u001b[39;00m detections:\n\u001b[0;32m     17\u001b[0m     image_face \u001b[38;5;241m=\u001b[39m cv2\u001b[38;5;241m.\u001b[39mresize(image_gray[y:y \u001b[38;5;241m+\u001b[39m w, x:x \u001b[38;5;241m+\u001b[39m h], (width, height))\n",
      "\u001b[1;31mKeyboardInterrupt\u001b[0m: "
     ]
    },
    {
     "ename": "",
     "evalue": "",
     "output_type": "error",
     "traceback": [
      "\u001b[1;31mThe Kernel crashed while executing code in the current cell or a previous cell. \n",
      "\u001b[1;31mPlease review the code in the cell(s) to identify a possible cause of the failure. \n",
      "\u001b[1;31mClick <a href='https://aka.ms/vscodeJupyterKernelCrash'>here</a> for more info. \n",
      "\u001b[1;31mView Jupyter <a href='command:jupyter.viewOutput'>log</a> for further details."
     ]
    }
   ],
   "source": [
    "import cv2\n",
    "# you need to import one more library, opencv-contrib-python\n",
    "# pip install opencv-contrib-python !!!!!!!!!!!!!!!!!!!!!!!!!!!!!!!!!!!!!!!!!!!!!!!!!!!!!!!!!!!!!!!!!!!!!!!!!!!!!1\n",
    "face_detector = cv2.CascadeClassifier(\"haarcascade_frontalface_default.xml\")  #usual facedetection\n",
    "face_recognizer = cv2.face.LBPHFaceRecognizer_create()\n",
    "face_recognizer.read(\"lbph_classifierAD100.yml\") # your own classifier file  (recognizer!)\n",
    "width, height = 165, 220  # my own images I resized\n",
    "#font = cv2.FONT_HERSHEY_COMPLEX_SMALL\n",
    "font = cv2.FONT_HERSHEY_SIMPLEX\n",
    "camera = cv2.VideoCapture(0)\n",
    "\n",
    "while (True):\n",
    "    connected, image = camera.read()\n",
    "    image_gray = cv2.cvtColor(image, cv2.COLOR_BGR2GRAY)\n",
    "    detections = face_detector.detectMultiScale(image_gray, scaleFactor=1.5, minSize=(30,30))\n",
    "    for (x, y, w, h) in detections:\n",
    "        image_face = cv2.resize(image_gray[y:y + w, x:x + h], (width, height))\n",
    "        id, confidence = face_recognizer.predict(image_face)\n",
    "        name = \"\"\n",
    "        if id == 1:\n",
    "            name = 'Ogul Unal'\n",
    "            cv2.rectangle\n",
    "            cv2.rectangle(image, (x, y), (x + w, y + h), (0,0,255), 2)\n",
    "            cv2.putText(image, name, (x,y +(w+30)), font, 1, (0,0,255))\n",
    "            cv2.putText(image, str(confidence), (x,y + (h+50)), font, 0.3, (0,0,255))            \n",
    "        if id == 2:\n",
    "            name = 'Dmitrii'\n",
    "            cv2.rectangle(image, (x, y), (x + w, y + h), (255,0,0), 2)\n",
    "            cv2.putText(image, name, (x,y +(w+30)), font, 1, (255,0,0))\n",
    "            cv2.putText(image, str(confidence), (x,y + (h+50)), font, 0.3, (255,0,0))\n",
    "\n",
    "    cv2.imshow(\"Face\", image)\n",
    "    if cv2.waitKey(1) == ord('q'):\n",
    "        break\n",
    "\n",
    "camera.release()\n",
    "cv2.destroyAllWindows()"
   ]
  },
  {
   "cell_type": "code",
   "execution_count": null,
   "id": "0019d88f",
   "metadata": {},
   "outputs": [],
   "source": []
  }
 ],
 "metadata": {
  "kernelspec": {
   "display_name": "Python 3 (ipykernel)",
   "language": "python",
   "name": "python3"
  },
  "language_info": {
   "codemirror_mode": {
    "name": "ipython",
    "version": 3
   },
   "file_extension": ".py",
   "mimetype": "text/x-python",
   "name": "python",
   "nbconvert_exporter": "python",
   "pygments_lexer": "ipython3",
   "version": "3.12.3"
  }
 },
 "nbformat": 4,
 "nbformat_minor": 5
}
